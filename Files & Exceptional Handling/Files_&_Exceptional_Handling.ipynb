{
  "nbformat": 4,
  "nbformat_minor": 0,
  "metadata": {
    "colab": {
      "provenance": []
    },
    "kernelspec": {
      "name": "python3",
      "display_name": "Python 3"
    },
    "language_info": {
      "name": "python"
    }
  },
  "cells": [
    {
      "cell_type": "markdown",
      "source": [
        "1. Discuss the scenarios where multithreading is preferable to multiprocessing and scenarios where\n",
        "multiprocessing is a better choice."
      ],
      "metadata": {
        "id": "IVjrBFz181sR"
      }
    },
    {
      "cell_type": "markdown",
      "source": [
        "Multiprocessing is a concurrency method used to improve efficiency and parallelism in process execution. In multiprocessing, multiple processes run concurrently, with each process having its own memory space and resources. The\n",
        "advantage of multiprocessing is that it provides isolation between processes and is highly scalable, as it can utilize multiple cores or even machines. However, its disadvantage is the introduction of communication overhead (Inter-Process Communication or IPC) and process management overhead (such as context switching).\n",
        "\n",
        "Multiprocessing is ideal for CPU-intensive tasks where Input/Output (I/O) operations are minimal. For example, an image processing task requiring extensive computation is better suited for multiprocessing because it can fully utilize multiple cores without frequent I/O waiting.\n",
        "\n",
        "Multithreading, on the other hand, is a concurrency method where multiple threads run concurrently within the same process, sharing the same memory space and resources. Its advantages include lightweight operation and efficient communication between threads due to shared memory. However, it has limitations in scalability, as it's restricted by the number of cores in a single processor. Additionally, multithreading introduces the risk of race conditions and deadlocks due to shared resources, which can lead to synchronization issues.\n",
        "\n",
        "Multithreading is more suitable for I/O-bound tasks where waiting for I/O operations dominates. For example, in a web server, multithreading is commonly used to handle multiple client requests concurrently while waiting for I/O operations like network communication or database queries.\n"
      ],
      "metadata": {
        "id": "Ym89MBV484L6"
      }
    },
    {
      "cell_type": "markdown",
      "source": [
        "--------------------------------------------------------------------------------"
      ],
      "metadata": {
        "id": "o0daFEZC9PtM"
      }
    },
    {
      "cell_type": "markdown",
      "source": [
        "2.\tDescribe what a process pool is and how it helps in managing multiple processes efficiently."
      ],
      "metadata": {
        "id": "cQSNgm9H9HPa"
      }
    },
    {
      "cell_type": "markdown",
      "source": [
        "A process pool is a programming abstraction that allows for managing and controlling multiple worker processes efficiently. It is a collection of worker processes that are kept ready to handle tasks, reducing the overhead of creating and destroying processes repeatedly. Process pools are used to parallelize the execution of functions across multiple processes, making them highly effective for tasks that can be divided into independent units of work.\n",
        "\n",
        "Example Use Case:\n",
        "Data Processing: Suppose you have a large dataset that can be processed in parallel, such as performing calculations on different chunks of data. Using a process pool, each worker process can be assigned a chunk of the data, and the results can be combined once all processes have finished.\n",
        "\n"
      ],
      "metadata": {
        "id": "qyzXjld29HKD"
      }
    },
    {
      "cell_type": "markdown",
      "source": [
        "--------------------------------------------------------------------------------"
      ],
      "metadata": {
        "id": "0gdPne5N9XWT"
      }
    },
    {
      "cell_type": "markdown",
      "source": [
        "3.\tExplain what multiprocessing is and why it is used in Python programs."
      ],
      "metadata": {
        "id": "A0qZt7YD9HDq"
      }
    },
    {
      "cell_type": "markdown",
      "source": [
        "Multiprocessing is a technique that allows a program to run multiple processes concurrently, where each process runs independently and in parallel on separate CPU cores. Unlike threads, which share the same memory space, each process in multiprocessing has its own memory and resources, ensuring better isolation and reducing the risk of issues like race conditions.\n",
        "Why Multiprocessing is Used in Python Programs:\n",
        "Improved Performance for CPU-bound Tasks: Multiprocessing is particularly beneficial for CPU-bound tasks—tasks that require a lot of computation and processing power. By dividing the task across multiple processes, you can take advantage of all available CPU cores to run tasks in parallel, leading to significant performance improvements.\n",
        "\n",
        "Isolation of Processes: Each process has its own memory space and runs independently of other processes. This isolation provides safety from shared state problems (such as race conditions or deadlocks), making multiprocessing safer when dealing with complex concurrent tasks.\n",
        "\n",
        "Parallel Execution: Python's multiprocessing module allows the parallel execution of functions, where multiple tasks can be executed at the same time, speeding up execution for tasks that can be broken down into independent units of work.\n",
        "\n",
        "Handling I/O-bound and CPU-bound Tasks Separately: While multithreading is more suitable for I/O-bound tasks, multiprocessing is better for CPU-bound tasks. This makes multiprocessing ideal for resource-intensive operations like:\n",
        "\n",
        "Image processing\n",
        "Video processing\n",
        "Scientific computations\n",
        "Data analysis on large datasets\n"
      ],
      "metadata": {
        "id": "0oQ1hq-S9G9y"
      }
    },
    {
      "cell_type": "markdown",
      "source": [
        "--------------------------------------------------------------------------------"
      ],
      "metadata": {
        "id": "5kMbldyv9G3h"
      }
    },
    {
      "cell_type": "markdown",
      "source": [
        "Write a Python program using multithreading where one thread adds numbers to a list, and another\n",
        "thread removes numbers from the list. Implement a mechanism to avoid race conditions using\n",
        "threading.Lock."
      ],
      "metadata": {
        "id": "BH7amC9E9GxB"
      }
    },
    {
      "cell_type": "code",
      "execution_count": 1,
      "metadata": {
        "colab": {
          "base_uri": "https://localhost:8080/"
        },
        "id": "fKQYCvqb6vB2",
        "outputId": "32f82af5-dc95-43ef-a83d-e0b8cd52b1a9"
      },
      "outputs": [
        {
          "output_type": "stream",
          "name": "stdout",
          "text": [
            "Added 1: [1]\n",
            "Added 2: [1, 2]\n",
            "Removed 1: [2]\n",
            "Added 3: [2, 3]\n",
            "Added 4: [2, 3, 4]\n",
            "Removed 2: [3, 4]\n",
            "Added 5: [3, 4, 5]\n",
            "Added 6: [3, 4, 5, 6]\n",
            "Removed 3: [4, 5, 6]\n",
            "Added 7: [4, 5, 6, 7]\n",
            "Added 8: [4, 5, 6, 7, 8]\n",
            "Removed 4: [5, 6, 7, 8]\n",
            "Added 9: [5, 6, 7, 8, 9]\n",
            "Added 10: [5, 6, 7, 8, 9, 10]\n",
            "Removed 5: [6, 7, 8, 9, 10]\n",
            "Removed 6: [7, 8, 9, 10]\n",
            "Removed 7: [8, 9, 10]\n",
            "Removed 8: [9, 10]\n",
            "Removed 9: [10]\n",
            "Removed 10: []\n",
            "Final list: []\n"
          ]
        }
      ],
      "source": [
        "import threading\n",
        "import time\n",
        "\n",
        "# Shared resource (the list)\n",
        "numbers_list = []\n",
        "\n",
        "# Lock to avoid race conditions\n",
        "list_lock = threading.Lock()\n",
        "\n",
        "# Function for adding numbers to the list\n",
        "def add_numbers():\n",
        "    for i in range(1, 11):  # Adding numbers 1 to 10\n",
        "        time.sleep(0.1)  # Simulating delay\n",
        "        with list_lock:  # Acquiring lock before modifying the shared list\n",
        "            numbers_list.append(i)\n",
        "            print(f\"Added {i}: {numbers_list}\")\n",
        "\n",
        "# Function for removing numbers from the list\n",
        "def remove_numbers():\n",
        "    for _ in range(1, 11):  # Removing 10 numbers\n",
        "        time.sleep(0.2)  # Simulating delay\n",
        "        with list_lock:  # Acquiring lock before modifying the shared list\n",
        "            if numbers_list:\n",
        "                removed = numbers_list.pop(0)\n",
        "                print(f\"Removed {removed}: {numbers_list}\")\n",
        "            else:\n",
        "                print(\"List is empty, waiting for numbers to be added.\")\n",
        "\n",
        "# Creating threads\n",
        "adder_thread = threading.Thread(target=add_numbers)\n",
        "remover_thread = threading.Thread(target=remove_numbers)\n",
        "\n",
        "# Starting threads\n",
        "adder_thread.start()\n",
        "remover_thread.start()\n",
        "\n",
        "# Waiting for both threads to complete\n",
        "adder_thread.join()\n",
        "remover_thread.join()\n",
        "\n",
        "print(\"Final list:\", numbers_list)"
      ]
    },
    {
      "cell_type": "markdown",
      "source": [
        " 4.Describe the methods and tools available in Python for safely sharing data between threads and\n",
        "processes.\n"
      ],
      "metadata": {
        "id": "ung0xBam9qic"
      }
    },
    {
      "cell_type": "markdown",
      "source": [
        "In Python, safely sharing data between threads and processes can be done using various methods and tools. The choice of tool depends on whether you're working with threads (which share memory by default) or processes (which have separate memory spaces).\n",
        "\n",
        "1. For Threads:\n",
        "Since threads share the same memory space, you can directly access and modify shared objects. However, this can lead to race conditions, so synchronization tools are essential.\n",
        "\n",
        "threading.Lock:\n",
        "\n",
        "A lock ensures that only one thread can access a shared resource at a time, preventing race conditions.\n",
        "Usage: Use lock.acquire() to lock the shared resource and lock.release() to unlock it. The with lock: syntax is preferred as it automatically handles the release.\n"
      ],
      "metadata": {
        "id": "dJ521rDF_C9Q"
      }
    },
    {
      "cell_type": "code",
      "source": [
        "lock = threading.Lock()\n",
        "with lock:\n",
        "    # Safe access to shared data\n"
      ],
      "metadata": {
        "id": "UuR5swyV6wQG"
      },
      "execution_count": 1,
      "outputs": []
    },
    {
      "cell_type": "markdown",
      "source": [
        "threading.RLock (Reentrant Lock):\n",
        "\n",
        "Allows a thread to acquire the same lock multiple times without getting blocked.\n",
        "This is useful in cases where the same thread needs to re-acquire the lock in recursive functions.\n",
        "Usage is similar to threading.Lock.\n",
        "threading.Semaphore:\n",
        "\n",
        "Semaphores are counters that allow a specific number of threads to access a shared resource concurrently.\n",
        "Useful when you want to limit the number of threads accessing a resource at the same time."
      ],
      "metadata": {
        "id": "pqURX0R-_M8_"
      }
    },
    {
      "cell_type": "code",
      "source": [
        "semaphore = threading.Semaphore(3)  # Limit to 3 threads\n",
        "with semaphore:\n",
        "    # Safe access for up to 3 threads\n"
      ],
      "metadata": {
        "id": "tWjqS8Et_P83"
      },
      "execution_count": null,
      "outputs": []
    },
    {
      "cell_type": "markdown",
      "source": [
        "threading.Event:\n",
        "\n",
        "An event is a flag that threads can check to coordinate their execution. A thread can wait for an event to be set before continuing.\n",
        "Example:"
      ],
      "metadata": {
        "id": "kqaSpyA__SmR"
      }
    },
    {
      "cell_type": "code",
      "source": [
        "event = threading.Event()\n",
        "event.wait()  # Wait for the event to be set\n"
      ],
      "metadata": {
        "id": "USDCXrnv_SMw"
      },
      "execution_count": null,
      "outputs": []
    },
    {
      "cell_type": "markdown",
      "source": [
        "threading.Condition:\n",
        "\n",
        "Combines a lock with a condition variable, allowing threads to wait until a specific condition is met before proceeding.\n",
        "Typically used for producer-consumer problems"
      ],
      "metadata": {
        "id": "MIAoYpww_WW4"
      }
    },
    {
      "cell_type": "code",
      "source": [
        "condition = threading.Condition()\n",
        "with condition:\n",
        "    condition.wait()  # Wait for condition to be met\n",
        "    condition.notify_all()  # Wake up all waiting threads\n"
      ],
      "metadata": {
        "id": "BLCzNlUz_Ybg"
      },
      "execution_count": null,
      "outputs": []
    },
    {
      "cell_type": "markdown",
      "source": [
        "Queue.Queue:\n",
        "\n",
        "A thread-safe queue designed to handle data between threads without the need for explicit locks.\n",
        "Useful for producer-consumer problems where one thread produces data and another thread consumes it."
      ],
      "metadata": {
        "id": "ehaOp_-g_c2o"
      }
    },
    {
      "cell_type": "code",
      "source": [
        "from queue import Queue\n",
        "q = Queue()\n",
        "q.put(item)  # Safe way to add data to the queue\n",
        "item = q.get()  # Safe way to retrieve data\n"
      ],
      "metadata": {
        "id": "WMpZ-yyi_mBh"
      },
      "execution_count": null,
      "outputs": []
    },
    {
      "cell_type": "markdown",
      "source": [
        "2. For Processes:\n",
        "Processes have separate memory spaces, so sharing data between them requires different tools, often provided by the multiprocessing module.\n",
        "\n",
        "multiprocessing.Queue:\n",
        "\n",
        "A process-safe queue that allows multiple processes to communicate with each other.\n"
      ],
      "metadata": {
        "id": "19YiAk3F_mq5"
      }
    },
    {
      "cell_type": "code",
      "source": [
        "from multiprocessing import Queue\n",
        "q = Queue()\n",
        "q.put(data)  # Add data to queue\n",
        "data = q.get()  # Retrieve data from queue\n"
      ],
      "metadata": {
        "id": "JtMylEVx_qzo"
      },
      "execution_count": null,
      "outputs": []
    },
    {
      "cell_type": "markdown",
      "source": [
        "multiprocessing.Pipe:\n",
        "\n",
        "A communication channel between two processes. It allows sending and receiving data directly between processes."
      ],
      "metadata": {
        "id": "dRC9nKI6AEED"
      }
    },
    {
      "cell_type": "code",
      "source": [
        "from multiprocessing import Pipe\n",
        "parent_conn, child_conn = Pipe()\n",
        "parent_conn.send(data)  # Send data from parent process\n",
        "data = child_conn.recv()  # Receive data in child process\n"
      ],
      "metadata": {
        "id": "tnoQSNpv_rpR"
      },
      "execution_count": null,
      "outputs": []
    },
    {
      "cell_type": "markdown",
      "source": [
        "multiprocessing.Value:\n",
        "\n",
        "Allows sharing simple data types (integers, floats, etc.) between processes."
      ],
      "metadata": {
        "id": "XSvWMuXsACR8"
      }
    },
    {
      "cell_type": "code",
      "source": [
        "from multiprocessing import Value\n",
        "shared_value = Value('i', 0)  # Shared integer initialized to 0\n",
        "shared_value.value += 1  # Modify shared value\n"
      ],
      "metadata": {
        "id": "oB3LCWEp_rjx"
      },
      "execution_count": null,
      "outputs": []
    },
    {
      "cell_type": "markdown",
      "source": [
        "multiprocessing.Array:\n",
        "\n",
        "Similar to multiprocessing.Value, but for sharing arrays of data between processes."
      ],
      "metadata": {
        "id": "T74LZojc_9Xq"
      }
    },
    {
      "cell_type": "code",
      "source": [
        "from multiprocessing import Array\n",
        "shared_array = Array('i', [1, 2, 3])  # Shared array of integers\n"
      ],
      "metadata": {
        "id": "YwKbyWlv_rdR"
      },
      "execution_count": null,
      "outputs": []
    },
    {
      "cell_type": "markdown",
      "source": [
        "multiprocessing.Manager:\n",
        "\n",
        "Provides a high-level way to share data between processes. It supports Python objects like lists, dictionaries, and namespaces."
      ],
      "metadata": {
        "id": "wJSPJbnc_42B"
      }
    },
    {
      "cell_type": "code",
      "source": [
        "from multiprocessing import Manager\n",
        "manager = Manager()\n",
        "shared_list = manager.list()  # Shared list between processes\n",
        "shared_dict = manager.dict()  # Shared dictionary between processes\n"
      ],
      "metadata": {
        "id": "vRQtde0A_rXZ"
      },
      "execution_count": null,
      "outputs": []
    },
    {
      "cell_type": "markdown",
      "source": [
        "multiprocessing.Lock:\n",
        "\n",
        "Similar to threading.Lock, but for processes. It ensures that only one process accesses shared resources at a time."
      ],
      "metadata": {
        "id": "u1jSCXP0_2cy"
      }
    },
    {
      "cell_type": "code",
      "source": [
        "from multiprocessing import Lock\n",
        "lock = Lock()\n",
        "with lock:\n",
        "    # Safe access to shared data between processes\n"
      ],
      "metadata": {
        "id": "IqwkE1E7_y76"
      },
      "execution_count": null,
      "outputs": []
    },
    {
      "cell_type": "markdown",
      "source": [
        "multiprocessing.Semaphore and multiprocessing.Condition:\n",
        "\n",
        "These tools work similarly to their threading counterparts but are designed for use between processes.\n",
        "\n",
        "Key Points:\n",
        "For Threads: Since threads share memory, locks, semaphores, and queues are used to synchronize and protect shared data from race conditions.\n",
        "For Processes: Processes don’t share memory, so tools like Queue, Pipe, Value, Array, and Manager provide ways to safely share data between processes while ensuring process isolation."
      ],
      "metadata": {
        "id": "iyRlUj8N_1Xi"
      }
    },
    {
      "cell_type": "markdown",
      "source": [
        "--------------------------------------------------------------------------------"
      ],
      "metadata": {
        "id": "xvmGpUcwAt78"
      }
    },
    {
      "cell_type": "markdown",
      "source": [
        "6. Discuss why it’s crucial to handle exceptions in concurrent programs and the techniques available for\n",
        "doing so."
      ],
      "metadata": {
        "id": "fMPpsiX0ARC1"
      }
    },
    {
      "cell_type": "markdown",
      "source": [
        "Unpredictable Behavior: In concurrent programs, multiple threads or processes run simultaneously. An exception in one thread or process can lead to unpredictable behavior in others if not properly handled. This could cause the entire application to crash or produce incorrect results.\n",
        "\n",
        "Data Integrity: Exceptions can lead to partial or inconsistent updates to shared resources. Proper exception handling ensures that data integrity is maintained, and partial operations are either rolled back or managed appropriately.\n",
        "\n",
        "Resource Management: Exceptions can result in resource leaks if not handled correctly. For instance, files or network connections may remain open if an exception occurs, leading to resource exhaustion or other issues.\n",
        "\n",
        "Program Stability: Unhandled exceptions in concurrent programs can lead to program instability and unexpected terminations. Handling exceptions ensures that the program can recover gracefully and continue running or shut down in a controlled manner.\n",
        "\n",
        "Debugging and Logging: Proper exception handling allows for better debugging and logging. By catching exceptions, you can log detailed error messages, which are essential for diagnosing issues in concurrent environments.\n",
        "\n",
        "Try-Except Blocks:\n",
        "\n",
        "Enclose code that might raise exceptions in try blocks and handle exceptions in except blocks.\n",
        "Usage: For catching and managing exceptions within any block of code.\n",
        "Exception Handling in Threads:\n",
        "\n",
        "Handle exceptions within the target function of each thread using try-except blocks.\n",
        "Usage: To manage exceptions that occur within a thread's execution.\n",
        "Exception Handling in Processes:\n",
        "\n",
        "Similar to threads, handle exceptions within each process’s target function.\n",
        "Usage: For managing exceptions in multiprocessing scenarios.\n",
        "Using concurrent.futures:\n",
        "\n",
        "Use the Future objects from concurrent.futures to handle exceptions that may occur in background tasks.\n",
        "Usage: To manage exceptions in a high-level concurrency interface with thread or process pools.\n",
        "Thread Pool and Process Pool Exception Handling:\n",
        "\n",
        "Catch exceptions from results of thread or process pool workers using apply_async or similar methods.\n",
        "Usage: To manage exceptions in pools of threads or processes.\n",
        "Graceful Shutdown and Cleanup:\n",
        "\n",
        "Use finally blocks or context managers to ensure resources are released and cleanup is performed even if exceptions occur.\n",
        "Usage: For ensuring resources are properly cleaned up after an exception.\n",
        "Logging Exceptions:\n",
        "\n",
        "Log exception details using the logging module to capture information for debugging and analysis.\n",
        "Usage: To record and review exception details for troubleshooting.\n"
      ],
      "metadata": {
        "id": "9t-4hMd8AfNb"
      }
    },
    {
      "cell_type": "markdown",
      "source": [
        "7. Create a program that uses a thread pool to calculate the factorial of numbers from 1 to 10 concurrently.\n",
        "Use concurrent.futures.ThreadPoolExecutor to manage the threads."
      ],
      "metadata": {
        "id": "Joaayco1A2PE"
      }
    },
    {
      "cell_type": "code",
      "source": [
        "import concurrent.futures\n",
        "import math\n",
        "\n",
        "# Function to compute factorial\n",
        "def compute_factorial(n):\n",
        "    return math.factorial(n)\n",
        "\n",
        "def main():\n",
        "    # Define the range of numbers for factorial computation\n",
        "    numbers = range(1, 11)\n",
        "\n",
        "    # Create a ThreadPoolExecutor with a number of workers equal to the number of items\n",
        "    with concurrent.futures.ThreadPoolExecutor(max_workers=len(numbers)) as executor:\n",
        "        # Map the compute_factorial function to the numbers using the executor\n",
        "        futures = {executor.submit(compute_factorial, num): num for num in numbers}\n",
        "\n",
        "        # Collect and print the results\n",
        "        for future in concurrent.futures.as_completed(futures):\n",
        "            num = futures[future]\n",
        "            try:\n",
        "                result = future.result()\n",
        "                print(f\"Factorial of {num} is {result}\")\n",
        "            except Exception as exc:\n",
        "                print(f\"Exception occurred for number {num}: {exc}\")\n",
        "\n",
        "if __name__ == \"__main__\":\n",
        "    main()\n"
      ],
      "metadata": {
        "colab": {
          "base_uri": "https://localhost:8080/"
        },
        "id": "DGTZRc43_19t",
        "outputId": "f2cff1f2-e87f-42f7-ab86-d236b9d75a73"
      },
      "execution_count": 2,
      "outputs": [
        {
          "output_type": "stream",
          "name": "stdout",
          "text": [
            "Factorial of 9 is 362880\n",
            "Factorial of 8 is 40320\n",
            "Factorial of 7 is 5040\n",
            "Factorial of 1 is 1\n",
            "Factorial of 4 is 24\n",
            "Factorial of 2 is 2\n",
            "Factorial of 3 is 6\n",
            "Factorial of 10 is 3628800\n",
            "Factorial of 5 is 120\n",
            "Factorial of 6 is 720\n"
          ]
        }
      ]
    },
    {
      "cell_type": "markdown",
      "source": [
        "--------------------------------------------------------------------------------"
      ],
      "metadata": {
        "id": "sA2lUN0dBAv1"
      }
    },
    {
      "cell_type": "markdown",
      "source": [
        "8. Create a Python program that uses multiprocessing.Pool to compute the square of numbers from 1 to 10 in\n",
        "parallel. Measure the time taken to perform this computation using a pool of different sizes (e.g., 2, 4, 8\n",
        "processes)."
      ],
      "metadata": {
        "id": "FYFMBD4RA-zd"
      }
    },
    {
      "cell_type": "code",
      "source": [
        "import multiprocessing\n",
        "import time\n",
        "\n",
        "def compute_square(n):\n",
        "    \"\"\"Function to compute the square of a number.\"\"\"\n",
        "    return n * n\n",
        "\n",
        "def measure_time(pool_size):\n",
        "    \"\"\"Function to measure the time taken for computation with a given pool size.\"\"\"\n",
        "    start_time = time.time()\n",
        "\n",
        "    # Create a Pool with the specified number of processes\n",
        "    with multiprocessing.Pool(processes=pool_size) as pool:\n",
        "        # Map the compute_square function to the numbers\n",
        "        results = pool.map(compute_square, range(1, 11))\n",
        "\n",
        "    end_time = time.time()\n",
        "\n",
        "    # Print the results and the time taken\n",
        "    print(f\"Pool size: {pool_size}\")\n",
        "    print(\"Squares:\", results)\n",
        "    print(f\"Time taken: {end_time - start_time:.4f} seconds\\n\")\n",
        "\n",
        "def main():\n",
        "    # Define the pool sizes to test\n",
        "    pool_sizes = [2, 4, 8]\n",
        "\n",
        "    # Measure and print the time taken for each pool size\n",
        "    for pool_size in pool_sizes:\n",
        "        measure_time(pool_size)\n",
        "\n",
        "if __name__ == \"__main__\":\n",
        "    main()\n"
      ],
      "metadata": {
        "colab": {
          "base_uri": "https://localhost:8080/"
        },
        "id": "vDiS0LxRA4mI",
        "outputId": "f81a0ec8-a970-44eb-e8f1-29dc537d7837"
      },
      "execution_count": 3,
      "outputs": [
        {
          "output_type": "stream",
          "name": "stdout",
          "text": [
            "Pool size: 2\n",
            "Squares: [1, 4, 9, 16, 25, 36, 49, 64, 81, 100]\n",
            "Time taken: 0.0465 seconds\n",
            "\n",
            "Pool size: 4\n",
            "Squares: [1, 4, 9, 16, 25, 36, 49, 64, 81, 100]\n",
            "Time taken: 0.0662 seconds\n",
            "\n",
            "Pool size: 8\n",
            "Squares: [1, 4, 9, 16, 25, 36, 49, 64, 81, 100]\n",
            "Time taken: 0.0954 seconds\n",
            "\n"
          ]
        }
      ]
    },
    {
      "cell_type": "code",
      "source": [],
      "metadata": {
        "id": "d8G2GYcFBEtH"
      },
      "execution_count": null,
      "outputs": []
    }
  ]
}